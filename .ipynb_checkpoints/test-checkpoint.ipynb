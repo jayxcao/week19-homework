{
 "cells": [
  {
   "cell_type": "code",
   "execution_count": 114,
   "id": "8ef54ec8",
   "metadata": {},
   "outputs": [],
   "source": [
    "import subprocess\n",
    "import json\n",
    "from constants import *\n",
    "from web3 import Web3, middleware, Account\n",
    "\n",
    "mnemonic = \"tattoo explain hedgehog talk visa lucky essence morning hammer enroll couch expand\""
   ]
  },
  {
   "cell_type": "code",
   "execution_count": 93,
   "id": "7a487d98",
   "metadata": {},
   "outputs": [],
   "source": [
    "command = ('php derive -g --mnemonic=\"{}\" --cols=path,address,privkey,pubkey --format=json --coin={} --numderive=3').format(mnemonic,ETH)"
   ]
  },
  {
   "cell_type": "code",
   "execution_count": 94,
   "id": "3705eeda",
   "metadata": {},
   "outputs": [
    {
     "name": "stdout",
     "output_type": "stream",
     "text": [
      "b'\\n[{\"path\":\"m\\\\/44\\'\\\\/60\\'\\\\/0\\'\\\\/0\\\\/0\",\"address\":\"0x3053E4D83Eb0a8C21CD2edBfcBaE205319b271D3\",\"privkey\":\"0x8da8cd349dbc1e63d06d32f5da0ad618e288d0d9bcc9dae84f37af8bf79e4d94\",\"pubkey\":\"030f838f13f73e38ff2272cca7af462f29342ee26e2e16c311e47b6f86f278ea37\"},{\"path\":\"m\\\\/44\\'\\\\/60\\'\\\\/0\\'\\\\/0\\\\/1\",\"address\":\"0xf4Ad3d8661C49D13113D1a656D943932521B4F3d\",\"privkey\":\"0x56e8ebae109d6ba97b29fe9a77a542f6a6798c5f98de75c95880885a87973a14\",\"pubkey\":\"02e6c5b7659e2ffaeb782f0028256f0850c745a65f6f79772c54e84e4a4c97bf72\"},{\"path\":\"m\\\\/44\\'\\\\/60\\'\\\\/0\\'\\\\/0\\\\/2\",\"address\":\"0xf4dCe8041Cfeb9E493395738A3443491c08A1011\",\"privkey\":\"0x9ffbedd610b6dd0f702e5a15ed03161a73230bc787e6a70b84cae87d5857fdf1\",\"pubkey\":\"02daa787c9a85a237eb58e8c1ce4fb57bd98cc3f149ab25f5001b02e8ffce26c5b\"}]'\n"
     ]
    }
   ],
   "source": [
    "p = subprocess.Popen(command, stdout=subprocess.PIPE, shell=True)\n",
    "(output, err) = p.communicate()\n",
    "p_status = p.wait()\n",
    "print(output)"
   ]
  },
  {
   "cell_type": "code",
   "execution_count": 95,
   "id": "2ae7f47d",
   "metadata": {},
   "outputs": [
    {
     "name": "stdout",
     "output_type": "stream",
     "text": [
      "[{'path': \"m/44'/60'/0'/0/0\", 'address': '0x3053E4D83Eb0a8C21CD2edBfcBaE205319b271D3', 'privkey': '0x8da8cd349dbc1e63d06d32f5da0ad618e288d0d9bcc9dae84f37af8bf79e4d94', 'pubkey': '030f838f13f73e38ff2272cca7af462f29342ee26e2e16c311e47b6f86f278ea37'}, {'path': \"m/44'/60'/0'/0/1\", 'address': '0xf4Ad3d8661C49D13113D1a656D943932521B4F3d', 'privkey': '0x56e8ebae109d6ba97b29fe9a77a542f6a6798c5f98de75c95880885a87973a14', 'pubkey': '02e6c5b7659e2ffaeb782f0028256f0850c745a65f6f79772c54e84e4a4c97bf72'}, {'path': \"m/44'/60'/0'/0/2\", 'address': '0xf4dCe8041Cfeb9E493395738A3443491c08A1011', 'privkey': '0x9ffbedd610b6dd0f702e5a15ed03161a73230bc787e6a70b84cae87d5857fdf1', 'pubkey': '02daa787c9a85a237eb58e8c1ce4fb57bd98cc3f149ab25f5001b02e8ffce26c5b'}]\n"
     ]
    }
   ],
   "source": [
    "keys = json.loads(output)\n",
    "print(keys)"
   ]
  },
  {
   "cell_type": "code",
   "execution_count": 96,
   "id": "14ef392c",
   "metadata": {},
   "outputs": [
    {
     "name": "stdout",
     "output_type": "stream",
     "text": [
      "0x3053E4D83Eb0a8C21CD2edBfcBaE205319b271D3\n"
     ]
    }
   ],
   "source": [
    "print(keys[0]['address'])"
   ]
  },
  {
   "cell_type": "code",
   "execution_count": 97,
   "id": "92a661a2",
   "metadata": {},
   "outputs": [],
   "source": [
    "addresses = [key['address'] for key in keys]"
   ]
  },
  {
   "cell_type": "code",
   "execution_count": 98,
   "id": "a24fd427",
   "metadata": {},
   "outputs": [
    {
     "ename": "TypeError",
     "evalue": "'builtin_function_or_method' object is not subscriptable",
     "output_type": "error",
     "traceback": [
      "\u001b[1;31m---------------------------------------------------------------------------\u001b[0m",
      "\u001b[1;31mTypeError\u001b[0m                                 Traceback (most recent call last)",
      "\u001b[1;32mC:\\Users\\JAYCAO~1\\AppData\\Local\\Temp/ipykernel_26712/1980498233.py\u001b[0m in \u001b[0;36m<module>\u001b[1;34m\u001b[0m\n\u001b[1;32m----> 1\u001b[1;33m \u001b[0mprint\u001b[0m\u001b[1;33m[\u001b[0m\u001b[0maddresses\u001b[0m\u001b[1;33m]\u001b[0m\u001b[1;33m\u001b[0m\u001b[1;33m\u001b[0m\u001b[0m\n\u001b[0m",
      "\u001b[1;31mTypeError\u001b[0m: 'builtin_function_or_method' object is not subscriptable"
     ]
    }
   ],
   "source": [
    "print[addresses]"
   ]
  },
  {
   "cell_type": "code",
   "execution_count": null,
   "id": "b7eaca87-e863-4ef5-99c6-ebf1396ad366",
   "metadata": {},
   "outputs": [],
   "source": []
  },
  {
   "cell_type": "code",
   "execution_count": 118,
   "id": "154f9d34-da73-4581-bc1f-dd3504966e5f",
   "metadata": {},
   "outputs": [],
   "source": [
    "def derive_wallets(mnemonic,coin):\n",
    "    command = ('php derive -g --mnemonic=\"{}\" --cols=path,address,privkey,pubkey --format=json --coin={} --numderive=3').format(mnemonic,coin)\n",
    "    p = subprocess.Popen(command, stdout=subprocess.PIPE, shell=True)\n",
    "    output, err = p.communicate()\n",
    "    p_status = p.wait()\n",
    "    return json.loads(output)"
   ]
  },
  {
   "cell_type": "code",
   "execution_count": 63,
   "id": "fdaf46f4-74b9-47c0-9c9b-da06a872a819",
   "metadata": {},
   "outputs": [
    {
     "name": "stdout",
     "output_type": "stream",
     "text": [
      "[{'path': \"m/44'/0'/0'/0/0\", 'address': '1KcKGifY5tZgd1ZVweuUo2jzNHbv2iM5Uz', 'privkey': 'KzvtmgUWCuikYq4UFhgXNWwP8aEAgaisK26NKqrDyuSp3zFLVKBH', 'pubkey': '0258864190927c06a87fda3fc57cb6e58f25eb139352ecef302aa94d7cc34f0518'}, {'path': \"m/44'/0'/0'/0/1\", 'address': '12ppPaSfkSc3CdMnjMrh5KNmSEoP1czRpW', 'privkey': 'KxHRyD4BpqMetogAqi2m61SjohAxrg9QHDDSw35WGmo7NHiApEK4', 'pubkey': '023c6c39db4e4edfe79791063474c89f0f4daa7cfbdc33d7b0c0ee31d62f53a0fc'}, {'path': \"m/44'/0'/0'/0/2\", 'address': '1NihjpDYSU54LDqkhu2gan6XFfVLJQRMvs', 'privkey': 'KxE4sGtDqw91Z3nuwBK6RPRxRT4SF8FHtuJWmBSkETvx2NDq4AkS', 'pubkey': '02c306b9565b6ffef63c69d571dc06d570812b7b6ca63d36d2295f0c3edbaae079'}]\n"
     ]
    }
   ],
   "source": [
    "btc_coins = derive_wallets(mnemonic,BTC)\n",
    "print(btc_coins)"
   ]
  },
  {
   "cell_type": "code",
   "execution_count": 65,
   "id": "d1e1404e-3007-495f-a4ce-3f5e03cfdd8c",
   "metadata": {},
   "outputs": [
    {
     "name": "stdout",
     "output_type": "stream",
     "text": [
      "[{'path': \"m/44'/1'/0'/0/0\", 'address': 'n1vxj4ydHD8CYnsSZchpThsgCuQsaUYdRa', 'privkey': 'cQV5XQ66FsuC61X9Xha2p9hcYjzWorD26bXgCiczP8GPQVpANDCi', 'pubkey': '02a492014669e0eb856dfa24ba80d9ff397002cfef89830fdd0efb1d338a3f6fc7'}, {'path': \"m/44'/1'/0'/0/1\", 'address': 'mgD4SVLP53sLYSH8nX8ef7K8tfL8dEFcrB', 'privkey': 'cTY3nhETsVp1n7mBLULjSixMBMxPAWxmqkKbMVWvpqasT11eCxyU', 'pubkey': '02a230dd9584fa3ad8bf90b2b9e5cd0a9d4ea6057377bb25871010b66761be4a81'}, {'path': \"m/44'/1'/0'/0/2\", 'address': 'mfbV873hRD6htY7dMdbjLBtQPPnKoao9Tp', 'privkey': 'cNqfVRwgm8ub6mK8iZrYZbC3pTf7Cq6njHxZy3icKFbDJXv8hPTJ', 'pubkey': '03bf78da7976cfffd39eb302e00ddc7d4ae7959e2013a52d9bdd90d67782f3a070'}]\n"
     ]
    }
   ],
   "source": [
    "btc_test_coins = derive_wallets(mnemonic,BTCTEST)\n",
    "print(btc_test_coins)"
   ]
  },
  {
   "cell_type": "code",
   "execution_count": 100,
   "id": "b2a5d3ed-ca81-4130-8a9a-533156b47a7b",
   "metadata": {},
   "outputs": [
    {
     "name": "stdout",
     "output_type": "stream",
     "text": [
      "[{'path': \"m/44'/60'/0'/0/0\", 'address': '0x3053E4D83Eb0a8C21CD2edBfcBaE205319b271D3', 'privkey': '0x8da8cd349dbc1e63d06d32f5da0ad618e288d0d9bcc9dae84f37af8bf79e4d94', 'pubkey': '030f838f13f73e38ff2272cca7af462f29342ee26e2e16c311e47b6f86f278ea37'}, {'path': \"m/44'/60'/0'/0/1\", 'address': '0xf4Ad3d8661C49D13113D1a656D943932521B4F3d', 'privkey': '0x56e8ebae109d6ba97b29fe9a77a542f6a6798c5f98de75c95880885a87973a14', 'pubkey': '02e6c5b7659e2ffaeb782f0028256f0850c745a65f6f79772c54e84e4a4c97bf72'}, {'path': \"m/44'/60'/0'/0/2\", 'address': '0xf4dCe8041Cfeb9E493395738A3443491c08A1011', 'privkey': '0x9ffbedd610b6dd0f702e5a15ed03161a73230bc787e6a70b84cae87d5857fdf1', 'pubkey': '02daa787c9a85a237eb58e8c1ce4fb57bd98cc3f149ab25f5001b02e8ffce26c5b'}]\n"
     ]
    }
   ],
   "source": [
    "eth_coins = derive_wallets(mnemonic,ETH)\n",
    "print(eth_coins)"
   ]
  },
  {
   "cell_type": "code",
   "execution_count": 105,
   "id": "582d2733-8fc1-4007-a330-26f0179c42bd",
   "metadata": {},
   "outputs": [
    {
     "name": "stdout",
     "output_type": "stream",
     "text": [
      "0x8da8cd349dbc1e63d06d32f5da0ad618e288d0d9bcc9dae84f37af8bf79e4d94\n"
     ]
    }
   ],
   "source": [
    "print(eth_coins[0]['privkey'])"
   ]
  },
  {
   "cell_type": "code",
   "execution_count": 70,
   "id": "8983301a-838d-4a2b-bd71-1b8b3d9e0145",
   "metadata": {},
   "outputs": [
    {
     "name": "stdout",
     "output_type": "stream",
     "text": [
      "[{'path': \"m/44'/0'/0'/0/0\", 'address': '1KcKGifY5tZgd1ZVweuUo2jzNHbv2iM5Uz', 'privkey': 'KzvtmgUWCuikYq4UFhgXNWwP8aEAgaisK26NKqrDyuSp3zFLVKBH', 'pubkey': '0258864190927c06a87fda3fc57cb6e58f25eb139352ecef302aa94d7cc34f0518'}, {'path': \"m/44'/0'/0'/0/1\", 'address': '12ppPaSfkSc3CdMnjMrh5KNmSEoP1czRpW', 'privkey': 'KxHRyD4BpqMetogAqi2m61SjohAxrg9QHDDSw35WGmo7NHiApEK4', 'pubkey': '023c6c39db4e4edfe79791063474c89f0f4daa7cfbdc33d7b0c0ee31d62f53a0fc'}, {'path': \"m/44'/0'/0'/0/2\", 'address': '1NihjpDYSU54LDqkhu2gan6XFfVLJQRMvs', 'privkey': 'KxE4sGtDqw91Z3nuwBK6RPRxRT4SF8FHtuJWmBSkETvx2NDq4AkS', 'pubkey': '02c306b9565b6ffef63c69d571dc06d570812b7b6ca63d36d2295f0c3edbaae079'}, {'path': \"m/44'/1'/0'/0/0\", 'address': 'n1vxj4ydHD8CYnsSZchpThsgCuQsaUYdRa', 'privkey': 'cQV5XQ66FsuC61X9Xha2p9hcYjzWorD26bXgCiczP8GPQVpANDCi', 'pubkey': '02a492014669e0eb856dfa24ba80d9ff397002cfef89830fdd0efb1d338a3f6fc7'}, {'path': \"m/44'/1'/0'/0/1\", 'address': 'mgD4SVLP53sLYSH8nX8ef7K8tfL8dEFcrB', 'privkey': 'cTY3nhETsVp1n7mBLULjSixMBMxPAWxmqkKbMVWvpqasT11eCxyU', 'pubkey': '02a230dd9584fa3ad8bf90b2b9e5cd0a9d4ea6057377bb25871010b66761be4a81'}, {'path': \"m/44'/1'/0'/0/2\", 'address': 'mfbV873hRD6htY7dMdbjLBtQPPnKoao9Tp', 'privkey': 'cNqfVRwgm8ub6mK8iZrYZbC3pTf7Cq6njHxZy3icKFbDJXv8hPTJ', 'pubkey': '03bf78da7976cfffd39eb302e00ddc7d4ae7959e2013a52d9bdd90d67782f3a070'}, {'path': \"m/44'/60'/0'/0/0\", 'address': '0xa3cEfE74BDe635157AE62d4760A2fFaAe0257D72', 'privkey': '0x0a84df05cd74ccbcbbe712758de721fb62d1df0c773abd0e50ffd6d3a13ac4b0', 'pubkey': '02aafe3602461beed9bf0e7e414fbf2a501134cbe3fe841b3c84db22d60eacbd03'}, {'path': \"m/44'/60'/0'/0/1\", 'address': '0x6B3fE142e4805f4e5090b37eD65336C5a24F821E', 'privkey': '0x21ad9b22b43f1cf53a85598422c7966918d1b606367efd1ad25b59318c004801', 'pubkey': '024864f4bbbb3bf43b5b7aa8c222606fb11d6da283e6f2354ec1cdc3c282cd4816'}, {'path': \"m/44'/60'/0'/0/2\", 'address': '0xd969056Eb8157CDF0aE8d6F352d80746a476428d', 'privkey': '0x5e452e0422c79b85c95408fc61a6f00aba9645c9ff274a61aae4598ca74f608e', 'pubkey': '03149883e6e0f520dee6462cd77b6b30ff795c33f070056a12bd7192d766487691'}]\n"
     ]
    }
   ],
   "source": [
    "coins =  btc_coins + btc_test_coins\n",
    "coins = coins + eth_coins\n",
    "print(coins)"
   ]
  },
  {
   "cell_type": "code",
   "execution_count": 113,
   "id": "41092cc8-e500-4378-b870-ea93181e4d1c",
   "metadata": {},
   "outputs": [
    {
     "name": "stdout",
     "output_type": "stream",
     "text": [
      "0x8da8cd349dbc1e63d06d32f5da0ad618e288d0d9bcc9dae84f37af8bf79e4d94\n"
     ]
    }
   ],
   "source": [
    "priv_key = eth_coins[0]['privkey']\n",
    "print(priv_key)"
   ]
  },
  {
   "cell_type": "code",
   "execution_count": 123,
   "id": "5bcc60a4-b8e2-4851-92a8-93af431bc05d",
   "metadata": {},
   "outputs": [],
   "source": [
    "def priv_key_to_account(coins,priv_key):\n",
    "    if coins == ETH:\n",
    "        return Account.privateKeyToAccount(priv_key)"
   ]
  },
  {
   "cell_type": "code",
   "execution_count": 124,
   "id": "a4bd3cd1-fe08-4379-b11d-e2d062846ff0",
   "metadata": {},
   "outputs": [
    {
     "name": "stdout",
     "output_type": "stream",
     "text": [
      "<eth_account.signers.local.LocalAccount object at 0x000001AF9A45D388>\n"
     ]
    }
   ],
   "source": [
    "eth_acc = priv_key_to_account(ETH, derive_wallets(mnemonic, ETH)[0]['privkey'])\n",
    "print(eth_acc)"
   ]
  },
  {
   "cell_type": "code",
   "execution_count": null,
   "id": "e17e19ee-3fc3-4651-9edd-8001fc82a0d3",
   "metadata": {},
   "outputs": [],
   "source": []
  },
  {
   "cell_type": "code",
   "execution_count": null,
   "id": "ac4b067d-9cb4-4a0b-9c28-356579194079",
   "metadata": {},
   "outputs": [],
   "source": []
  },
  {
   "cell_type": "code",
   "execution_count": 243,
   "id": "e0914c71-bfcd-45fe-8df3-2e33a01fcab1",
   "metadata": {},
   "outputs": [
    {
     "ename": "ModuleNotFoundError",
     "evalue": "No module named 'dotenv'",
     "output_type": "error",
     "traceback": [
      "\u001b[1;31m---------------------------------------------------------------------------\u001b[0m",
      "\u001b[1;31mModuleNotFoundError\u001b[0m                       Traceback (most recent call last)",
      "\u001b[1;32mC:\\Users\\JAYCAO~1\\AppData\\Local\\Temp/ipykernel_26712/1207704952.py\u001b[0m in \u001b[0;36m<module>\u001b[1;34m\u001b[0m\n\u001b[0;32m      2\u001b[0m \u001b[1;32mimport\u001b[0m \u001b[0msubprocess\u001b[0m\u001b[1;33m\u001b[0m\u001b[1;33m\u001b[0m\u001b[0m\n\u001b[0;32m      3\u001b[0m \u001b[1;32mimport\u001b[0m \u001b[0mjson\u001b[0m\u001b[1;33m\u001b[0m\u001b[1;33m\u001b[0m\u001b[0m\n\u001b[1;32m----> 4\u001b[1;33m \u001b[1;32mfrom\u001b[0m \u001b[0mdotenv\u001b[0m \u001b[1;32mimport\u001b[0m \u001b[0mload_dotenv\u001b[0m\u001b[1;33m\u001b[0m\u001b[1;33m\u001b[0m\u001b[0m\n\u001b[0m\u001b[0;32m      5\u001b[0m \u001b[1;33m\u001b[0m\u001b[0m\n\u001b[0;32m      6\u001b[0m \u001b[1;33m\u001b[0m\u001b[0m\n",
      "\u001b[1;31mModuleNotFoundError\u001b[0m: No module named 'dotenv'"
     ]
    }
   ],
   "source": [
    "# Import dependencies\n",
    "import subprocess\n",
    "import json\n",
    "from dotenv import load_dotenv\n",
    "\n",
    "\n",
    "# Load and set environment variables\n",
    "load_dotenv()\n",
    "mnemonic=os.getenv(\"mnemonic\")\n",
    "\n",
    "# Import constants.py and necessary functions from bit and web3\n",
    "from constants import *\n",
    "import bit\n",
    "from web3 import Web3, middleware, Account\n",
    "from web3.gas_strategies.time_based import medium_gas_price_strategy\n",
    "from web3.middleware import geth_poa_middleware\n",
    "\n",
    "mnemonic = \"jungle mammal girl squirrel screen shy catch silver brave copy torch resemble coach setup mansion\"\n",
    "\n",
    "w3 = Web3(Web3.HTTPProvider('http://127.0.0.1:8545'))\n",
    "w3.middleware_onion.inject(geth_poa_middleware, layer=0)\n",
    "w3.eth.setGasPriceStrategy(medium_gas_price_strategy)"
   ]
  },
  {
   "cell_type": "code",
   "execution_count": 230,
   "id": "23deab49-5868-485d-ab09-6c6afec3d76b",
   "metadata": {},
   "outputs": [],
   "source": [
    "def derive_wallets(mnemonic,coin):\n",
    "    command = ('php derive -g --mnemonic=\"{}\" --cols=path,address,privkey,pubkey --format=json --coin={} --numderive=3').format(mnemonic,coin)\n",
    "    p = subprocess.Popen(command, stdout=subprocess.PIPE, shell=True)\n",
    "    output, err = p.communicate()\n",
    "    p_status = p.wait()\n",
    "    return json.loads(output)"
   ]
  },
  {
   "cell_type": "code",
   "execution_count": 231,
   "id": "a6f50707-d812-411e-a06a-098f62b1b369",
   "metadata": {},
   "outputs": [],
   "source": [
    "def priv_key_to_account(coins,priv_key):\n",
    "    if coins == ETH:\n",
    "        return Account.privateKeyToAccount(priv_key)"
   ]
  },
  {
   "cell_type": "code",
   "execution_count": 232,
   "id": "41ee932e-bf0e-4083-8b19-c3ad83df8a5a",
   "metadata": {},
   "outputs": [],
   "source": [
    "def create_tx(coins, account, to, amount):\n",
    "    if coins == ETH:\n",
    "        gasEstimate = w3.eth.estimateGas(\n",
    "            {\"from\":eth_acc.address, \"to\":to, \"value\": amount}\n",
    "        )\n",
    "        return {\n",
    "            \"from\": eth_acc.address,\n",
    "            \"to\": to,\n",
    "            \"value\": amount,\n",
    "            \"gas\": gasEstimate,\n",
    "            \"gasPrice\": w3.eth.gasPrice,\n",
    "            \"nonce\": w3.eth.getTransactionCount(eth_acc.address),\n",
    "            #\"chainID\" : 5777\n",
    "        }"
   ]
  },
  {
   "cell_type": "code",
   "execution_count": 233,
   "id": "3ea08fac-f6c2-442b-9309-bc1a9c88ac0b",
   "metadata": {},
   "outputs": [],
   "source": [
    "def send_tx(coins, account, to, amount):\n",
    "    raw_tx = create_tx(coin, account, to, amount)\n",
    "    if coin == ETH:\n",
    "        signed_txn = eth_acc.sign_transaction(raw_tx)\n",
    "        result = w3.eth.sendRawTransaction(signed_txn.rawTransaction)\n",
    "        print(result.hex())\n",
    "        return result.hex()\n"
   ]
  },
  {
   "cell_type": "code",
   "execution_count": 238,
   "id": "d2d763ea-2f45-4106-ad90-b2da11d5f917",
   "metadata": {},
   "outputs": [],
   "source": [
    "# Create a dictionary object called coins to store the output from `derive_wallets`.\n",
    "btc_dict = {}\n",
    "btc_test_dict = {}\n",
    "eth_acc = {}"
   ]
  },
  {
   "cell_type": "code",
   "execution_count": 239,
   "id": "f453e76b-e9e3-48a3-a785-7aa1985f1e8b",
   "metadata": {},
   "outputs": [
    {
     "name": "stdout",
     "output_type": "stream",
     "text": [
      "[{'path': \"m/44'/60'/0'/0/0\", 'address': '0x1b80895087D2ECa4aaFB0CE4dFF6600dD6E63796', 'privkey': '0xb9ddcb6e9edf966fa8e4f5aa7eefabe875941e5686cfbf0a4d25a005b9860020', 'pubkey': '039340e597f120dc3ae59f55ebd89c6e10794fc5ab2c68b14ad5de22df8e629d0f'}, {'path': \"m/44'/60'/0'/0/1\", 'address': '0x62e0ce2026f17dfCa91f3eA3ad1B890312df06AF', 'privkey': '0x99793af1457bb5ca601ce26845cfc0fbe9950919385cb6edd36fbffcd8840772', 'pubkey': '028ebc62b384ed428de62b7278cf8f7a8cb254f54de16d87567292307bdde7fb97'}, {'path': \"m/44'/60'/0'/0/2\", 'address': '0xA8A17327816CdC436974cd9650C57f067D060C9F', 'privkey': '0x99cda75b7a767026c6e1a64e9075be86f042e69f58b0d73615d1a35c3dbc6d52', 'pubkey': '0382c970f60bfc4ed2d4a729e368009eb34720dc6c9b9ba767f2fd00c18ea8a2ca'}]\n"
     ]
    }
   ],
   "source": [
    "eth_coins = derive_wallets(mnemonic,ETH)\n",
    "print(eth_coins)"
   ]
  },
  {
   "cell_type": "code",
   "execution_count": 240,
   "id": "ae305e83-e2a5-4426-8952-1c44cc2d2a39",
   "metadata": {},
   "outputs": [
    {
     "name": "stdout",
     "output_type": "stream",
     "text": [
      "<eth_account.signers.local.LocalAccount object at 0x000001AF9A642188>\n"
     ]
    }
   ],
   "source": [
    "eth_acc = priv_key_to_account(ETH, derive_wallets(mnemonic, ETH)[2]['privkey'])\n",
    "\n",
    "print(eth_acc)"
   ]
  },
  {
   "cell_type": "code",
   "execution_count": 244,
   "id": "a272f3ee-9af2-4429-8814-b6819249d7be",
   "metadata": {},
   "outputs": [
    {
     "data": {
      "text/plain": [
       "{'from': '0xA8A17327816CdC436974cd9650C57f067D060C9F',\n",
       " 'to': '0x62e0ce2026f17dfCa91f3eA3ad1B890312df06AF',\n",
       " 'value': 12,\n",
       " 'gas': 21000,\n",
       " 'gasPrice': 20000000000,\n",
       " 'nonce': 4}"
      ]
     },
     "execution_count": 244,
     "metadata": {},
     "output_type": "execute_result"
    }
   ],
   "source": [
    "create_tx(ETH,eth_acc,\"0x62e0ce2026f17dfCa91f3eA3ad1B890312df06AF\", 12)"
   ]
  },
  {
   "cell_type": "code",
   "execution_count": 245,
   "id": "820ae834-2561-4d09-94ba-3cd6e5ce210d",
   "metadata": {},
   "outputs": [
    {
     "name": "stdout",
     "output_type": "stream",
     "text": [
      "0x578fec803e9f3905ac13b6a38eacd918078a0a7d54273a79898414aaeffb7536\n"
     ]
    },
    {
     "data": {
      "text/plain": [
       "'0x578fec803e9f3905ac13b6a38eacd918078a0a7d54273a79898414aaeffb7536'"
      ]
     },
     "execution_count": 245,
     "metadata": {},
     "output_type": "execute_result"
    }
   ],
   "source": [
    "send_tx(ETH,eth_acc,\"0x62e0ce2026f17dfCa91f3eA3ad1B890312df06AF\", 12)"
   ]
  }
 ],
 "metadata": {
  "kernelspec": {
   "display_name": "Python 3 (ipykernel)",
   "language": "python",
   "name": "python3"
  },
  "language_info": {
   "codemirror_mode": {
    "name": "ipython",
    "version": 3
   },
   "file_extension": ".py",
   "mimetype": "text/x-python",
   "name": "python",
   "nbconvert_exporter": "python",
   "pygments_lexer": "ipython3",
   "version": "3.7.12"
  }
 },
 "nbformat": 4,
 "nbformat_minor": 5
}
